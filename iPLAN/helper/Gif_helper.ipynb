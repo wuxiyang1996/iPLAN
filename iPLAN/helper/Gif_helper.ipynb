{
 "cells": [
  {
   "cell_type": "code",
   "execution_count": 9,
   "id": "df8e9504",
   "metadata": {},
   "outputs": [],
   "source": [
    "import glob\n",
    "from PIL import Image"
   ]
  },
  {
   "cell_type": "code",
   "execution_count": 10,
   "id": "50230ffc",
   "metadata": {},
   "outputs": [],
   "source": [
    "def make_gif(algo_name, env_name, frame_folder, info):\n",
    "    frames = [Image.open(frame_folder + \"/\" + str(i) + \".jpg\") for i in range(89)]\n",
    "    \n",
    "    frame_one = frames[0]\n",
    "    info_str = \"_\" + str(info[\"win\"]) + \"_\" + str(info[\"avg_len\"]) + \"_\" + str(info[\"avg_speed\"])\n",
    "    frame_one.save(algo_name + \"_\" + env_name + info_str + \".gif\", format=\"GIF\", append_images=frames,\n",
    "               save_all=True)"
   ]
  },
  {
   "cell_type": "code",
   "execution_count": 11,
   "id": "f46be1b2",
   "metadata": {},
   "outputs": [],
   "source": [
    "# Algo and env names\n",
    "algo_name = \"MAPPO\"\n",
    "env_name = \"Hetero_E\"\n",
    "# Navigation matrics\n",
    "info = {\"win\": 2, \"avg_len\": 49.6, \"avg_speed\":28.44}\n",
    "# Change the path for screenshot storage\n",
    "frame_folder = \"Highway_MAPPO/animation/2\""
   ]
  },
  {
   "cell_type": "code",
   "execution_count": 12,
   "id": "f5a9759d",
   "metadata": {},
   "outputs": [],
   "source": [
    "make_gif(algo_name, env_name, frame_folder, info)"
   ]
  }
 ],
 "metadata": {
  "kernelspec": {
   "display_name": "Python 3 (ipykernel)",
   "language": "python",
   "name": "python3"
  },
  "language_info": {
   "codemirror_mode": {
    "name": "ipython",
    "version": 3
   },
   "file_extension": ".py",
   "mimetype": "text/x-python",
   "name": "python",
   "nbconvert_exporter": "python",
   "pygments_lexer": "ipython3",
   "version": "3.10.10"
  }
 },
 "nbformat": 4,
 "nbformat_minor": 5
}
