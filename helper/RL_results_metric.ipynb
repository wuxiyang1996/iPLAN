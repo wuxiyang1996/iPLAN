{
 "cells": [
  {
   "cell_type": "code",
   "execution_count": 49,
   "id": "0849b187",
   "metadata": {},
   "outputs": [],
   "source": [
    "import pandas as pd\n",
    "import numpy as np"
   ]
  },
  {
   "cell_type": "code",
   "execution_count": 62,
   "id": "842cbefc",
   "metadata": {},
   "outputs": [],
   "source": [
    "log_dir = \"D:/Nova_Highway/Results/Hetero-E/IPPO\"\n",
    "log_file = \"cout.txt\"\n",
    "ds_file = \"results.csv\""
   ]
  },
  {
   "cell_type": "code",
   "execution_count": 63,
   "id": "e9a522cf",
   "metadata": {},
   "outputs": [],
   "source": [
    "with open(log_dir + \"/\" + log_file, encoding=\"utf8\") as f:\n",
    "    lines = f.readlines()"
   ]
  },
  {
   "cell_type": "code",
   "execution_count": 64,
   "id": "cc8ecd96",
   "metadata": {},
   "outputs": [],
   "source": [
    "raw_lines = lines[0:]"
   ]
  },
  {
   "cell_type": "code",
   "execution_count": 65,
   "id": "867319c6",
   "metadata": {},
   "outputs": [
    {
     "data": {
      "text/plain": [
       "['ENV IS :  highway\\n',\n",
       " 'EPISODE LIMIT IS  90\\n',\n",
       " 'MODEL PATH IS  testing\\\\1906615\\n',\n",
       " 'Episode # 0  | Average Episode Win Num:  4.0  | Average Episode Survival Time:  87.4  | Average Episode Speed:  22.461277\\n',\n",
       " '--------------------------------\\n',\n",
       " 'Episode # 1  | Average Episode Win Num:  4.0  | Average Episode Survival Time:  88.4  | Average Episode Speed:  22.569767\\n',\n",
       " '--------------------------------\\n',\n",
       " 'Episode # 2  | Average Episode Win Num:  3.0  | Average Episode Survival Time:  67.2  | Average Episode Speed:  22.0349\\n',\n",
       " '--------------------------------\\n',\n",
       " 'Episode # 3  | Average Episode Win Num:  5.0  | Average Episode Survival Time:  90.0  | Average Episode Speed:  21.825758\\n',\n",
       " '--------------------------------\\n',\n",
       " 'Episode # 4  | Average Episode Win Num:  5.0  | Average Episode Survival Time:  90.0  | Average Episode Speed:  22.574734\\n',\n",
       " '--------------------------------\\n',\n",
       " 'Episode # 5  | Average Episode Win Num:  2.0  | Average Episode Survival Time:  57.6  | Average Episode Speed:  21.945621\\n',\n",
       " '--------------------------------\\n',\n",
       " 'Episode # 6  | Average Episode Win Num:  3.0  | Average Episode Survival Time:  58.6  | Average Episode Speed:  22.36881\\n',\n",
       " '--------------------------------\\n',\n",
       " 'Episode # 7  | Average Episode Win Num:  0.0  | Average Episode Survival Time:  62.2  | Average Episode Speed:  23.550663\\n',\n",
       " '--------------------------------\\n',\n",
       " 'Episode # 8  | Average Episode Win Num:  2.0  | Average Episode Survival Time:  74.2  | Average Episode Speed:  22.46384\\n',\n",
       " '--------------------------------\\n',\n",
       " 'Episode # 9  | Average Episode Win Num:  0.0  | Average Episode Survival Time:  50.2  | Average Episode Speed:  22.866713\\n',\n",
       " '--------------------------------\\n',\n",
       " 'Episode # 10  | Average Episode Win Num:  3.0  | Average Episode Survival Time:  69.0  | Average Episode Speed:  22.248234\\n',\n",
       " '--------------------------------\\n',\n",
       " 'Episode # 11  | Average Episode Win Num:  4.0  | Average Episode Survival Time:  75.6  | Average Episode Speed:  22.950405\\n',\n",
       " '--------------------------------\\n',\n",
       " 'Episode # 12  | Average Episode Win Num:  3.0  | Average Episode Survival Time:  60.0  | Average Episode Speed:  23.521088\\n',\n",
       " '--------------------------------\\n',\n",
       " 'Episode # 13  | Average Episode Win Num:  2.0  | Average Episode Survival Time:  52.8  | Average Episode Speed:  21.660845\\n',\n",
       " '--------------------------------\\n',\n",
       " 'Episode # 14  | Average Episode Win Num:  3.0  | Average Episode Survival Time:  84.6  | Average Episode Speed:  22.275656\\n',\n",
       " '--------------------------------\\n',\n",
       " 'Episode # 15  | Average Episode Win Num:  2.0  | Average Episode Survival Time:  46.8  | Average Episode Speed:  22.875046\\n',\n",
       " '--------------------------------\\n',\n",
       " 'Episode # 16  | Average Episode Win Num:  2.0  | Average Episode Survival Time:  60.0  | Average Episode Speed:  22.10672\\n',\n",
       " '--------------------------------\\n',\n",
       " 'Episode # 17  | Average Episode Win Num:  1.0  | Average Episode Survival Time:  33.0  | Average Episode Speed:  21.060545\\n',\n",
       " '--------------------------------\\n',\n",
       " 'Episode # 18  | Average Episode Win Num:  3.0  | Average Episode Survival Time:  80.2  | Average Episode Speed:  22.886562\\n',\n",
       " '--------------------------------\\n',\n",
       " 'Episode # 19  | Average Episode Win Num:  4.0  | Average Episode Survival Time:  72.8  | Average Episode Speed:  22.341965\\n',\n",
       " '--------------------------------\\n',\n",
       " 'Episode # 20  | Average Episode Win Num:  5.0  | Average Episode Survival Time:  90.0  | Average Episode Speed:  22.033772\\n',\n",
       " '--------------------------------\\n',\n",
       " 'Episode # 21  | Average Episode Win Num:  0.0  | Average Episode Survival Time:  68.0  | Average Episode Speed:  24.20651\\n',\n",
       " '--------------------------------\\n',\n",
       " 'Episode # 22  | Average Episode Win Num:  2.0  | Average Episode Survival Time:  63.6  | Average Episode Speed:  22.990913\\n',\n",
       " '--------------------------------\\n',\n",
       " 'Episode # 23  | Average Episode Win Num:  2.0  | Average Episode Survival Time:  49.0  | Average Episode Speed:  22.956562\\n',\n",
       " '--------------------------------\\n',\n",
       " 'Episode # 24  | Average Episode Win Num:  2.0  | Average Episode Survival Time:  59.6  | Average Episode Speed:  23.490318\\n',\n",
       " '--------------------------------\\n',\n",
       " 'Episode # 25  | Average Episode Win Num:  1.0  | Average Episode Survival Time:  45.4  | Average Episode Speed:  23.1788\\n',\n",
       " '--------------------------------\\n',\n",
       " 'Episode # 26  | Average Episode Win Num:  1.0  | Average Episode Survival Time:  51.6  | Average Episode Speed:  21.48928\\n',\n",
       " '--------------------------------\\n',\n",
       " 'Episode # 27  | Average Episode Win Num:  4.0  | Average Episode Survival Time:  88.4  | Average Episode Speed:  21.959057\\n',\n",
       " '--------------------------------\\n',\n",
       " 'Episode # 28  | Average Episode Win Num:  2.0  | Average Episode Survival Time:  58.4  | Average Episode Speed:  23.507923\\n',\n",
       " '--------------------------------\\n',\n",
       " 'Episode # 29  | Average Episode Win Num:  2.0  | Average Episode Survival Time:  76.4  | Average Episode Speed:  22.313059\\n',\n",
       " '--------------------------------\\n',\n",
       " 'Episode # 30  | Average Episode Win Num:  0.0  | Average Episode Survival Time:  52.2  | Average Episode Speed:  23.406595\\n',\n",
       " '--------------------------------\\n',\n",
       " 'Episode # 31  | Average Episode Win Num:  2.0  | Average Episode Survival Time:  61.6  | Average Episode Speed:  22.15979\\n',\n",
       " '--------------------------------\\n',\n",
       " 'Episode # 32  | Average Episode Win Num:  2.0  | Average Episode Survival Time:  79.0  | Average Episode Speed:  22.396017\\n',\n",
       " '--------------------------------\\n',\n",
       " 'Episode # 33  | Average Episode Win Num:  3.0  | Average Episode Survival Time:  73.4  | Average Episode Speed:  22.394531\\n',\n",
       " '--------------------------------\\n',\n",
       " 'Episode # 34  | Average Episode Win Num:  4.0  | Average Episode Survival Time:  89.0  | Average Episode Speed:  21.87236\\n',\n",
       " '--------------------------------\\n',\n",
       " 'Episode # 35  | Average Episode Win Num:  3.0  | Average Episode Survival Time:  80.6  | Average Episode Speed:  22.232435\\n',\n",
       " '--------------------------------\\n',\n",
       " 'Episode # 36  | Average Episode Win Num:  5.0  | Average Episode Survival Time:  90.0  | Average Episode Speed:  22.260609\\n',\n",
       " '--------------------------------\\n',\n",
       " 'Episode # 37  | Average Episode Win Num:  1.0  | Average Episode Survival Time:  28.8  | Average Episode Speed:  22.269554\\n',\n",
       " '--------------------------------\\n',\n",
       " 'Episode # 38  | Average Episode Win Num:  0.0  | Average Episode Survival Time:  45.0  | Average Episode Speed:  22.806585\\n',\n",
       " '--------------------------------\\n',\n",
       " 'Episode # 39  | Average Episode Win Num:  5.0  | Average Episode Survival Time:  90.0  | Average Episode Speed:  23.080326\\n',\n",
       " '--------------------------------\\n',\n",
       " 'Episode # 40  | Average Episode Win Num:  3.0  | Average Episode Survival Time:  61.8  | Average Episode Speed:  21.924042\\n',\n",
       " '--------------------------------\\n',\n",
       " 'Episode # 41  | Average Episode Win Num:  3.0  | Average Episode Survival Time:  76.8  | Average Episode Speed:  22.018684\\n',\n",
       " '--------------------------------\\n',\n",
       " 'Episode # 42  | Average Episode Win Num:  3.0  | Average Episode Survival Time:  60.4  | Average Episode Speed:  23.538324\\n',\n",
       " '--------------------------------\\n',\n",
       " 'Episode # 43  | Average Episode Win Num:  1.0  | Average Episode Survival Time:  61.8  | Average Episode Speed:  22.122097\\n',\n",
       " '--------------------------------\\n',\n",
       " 'Episode # 44  | Average Episode Win Num:  5.0  | Average Episode Survival Time:  90.0  | Average Episode Speed:  22.441608\\n',\n",
       " '--------------------------------\\n',\n",
       " 'Episode # 45  | Average Episode Win Num:  2.0  | Average Episode Survival Time:  40.8  | Average Episode Speed:  22.827948\\n',\n",
       " '--------------------------------\\n',\n",
       " 'Episode # 46  | Average Episode Win Num:  2.0  | Average Episode Survival Time:  58.6  | Average Episode Speed:  22.66312\\n',\n",
       " '--------------------------------\\n',\n",
       " 'Episode # 47  | Average Episode Win Num:  3.0  | Average Episode Survival Time:  88.0  | Average Episode Speed:  22.579195\\n',\n",
       " '--------------------------------\\n',\n",
       " 'Episode # 48  | Average Episode Win Num:  2.0  | Average Episode Survival Time:  68.8  | Average Episode Speed:  21.989176\\n',\n",
       " '--------------------------------\\n',\n",
       " 'Episode # 49  | Average Episode Win Num:  0.0  | Average Episode Survival Time:  46.6  | Average Episode Speed:  23.94008\\n',\n",
       " '--------------------------------\\n',\n",
       " 'Episode # 50  | Average Episode Win Num:  1.0  | Average Episode Survival Time:  65.8  | Average Episode Speed:  23.302961\\n',\n",
       " '--------------------------------\\n',\n",
       " 'Episode # 51  | Average Episode Win Num:  0.0  | Average Episode Survival Time:  64.8  | Average Episode Speed:  24.248951\\n',\n",
       " '--------------------------------\\n',\n",
       " 'Episode # 52  | Average Episode Win Num:  4.0  | Average Episode Survival Time:  83.4  | Average Episode Speed:  22.566378\\n',\n",
       " '--------------------------------\\n',\n",
       " 'Episode # 53  | Average Episode Win Num:  1.0  | Average Episode Survival Time:  31.4  | Average Episode Speed:  22.676203\\n',\n",
       " '--------------------------------\\n',\n",
       " 'Episode # 54  | Average Episode Win Num:  2.0  | Average Episode Survival Time:  55.6  | Average Episode Speed:  24.416245\\n',\n",
       " '--------------------------------\\n',\n",
       " 'Episode # 55  | Average Episode Win Num:  5.0  | Average Episode Survival Time:  90.0  | Average Episode Speed:  22.195873\\n',\n",
       " '--------------------------------\\n',\n",
       " 'Episode # 56  | Average Episode Win Num:  4.0  | Average Episode Survival Time:  78.6  | Average Episode Speed:  22.213848\\n',\n",
       " '--------------------------------\\n',\n",
       " 'Episode # 57  | Average Episode Win Num:  1.0  | Average Episode Survival Time:  41.0  | Average Episode Speed:  22.450174\\n',\n",
       " '--------------------------------\\n',\n",
       " 'Episode # 58  | Average Episode Win Num:  2.0  | Average Episode Survival Time:  45.6  | Average Episode Speed:  23.163403\\n',\n",
       " '--------------------------------\\n',\n",
       " 'Episode # 59  | Average Episode Win Num:  2.0  | Average Episode Survival Time:  56.8  | Average Episode Speed:  21.806406\\n',\n",
       " '--------------------------------\\n',\n",
       " 'Episode # 60  | Average Episode Win Num:  3.0  | Average Episode Survival Time:  72.6  | Average Episode Speed:  22.017382\\n',\n",
       " '--------------------------------\\n',\n",
       " 'Episode # 61  | Average Episode Win Num:  2.0  | Average Episode Survival Time:  48.4  | Average Episode Speed:  23.911627\\n',\n",
       " '--------------------------------\\n',\n",
       " 'Episode # 62  | Average Episode Win Num:  0.0  | Average Episode Survival Time:  53.8  | Average Episode Speed:  23.87868\\n',\n",
       " '--------------------------------\\n',\n",
       " 'Episode # 63  | Average Episode Win Num:  5.0  | Average Episode Survival Time:  90.0  | Average Episode Speed:  21.757977\\n',\n",
       " '--------------------------------\\n']"
      ]
     },
     "execution_count": 65,
     "metadata": {},
     "output_type": "execute_result"
    }
   ],
   "source": [
    "raw_lines"
   ]
  },
  {
   "cell_type": "code",
   "execution_count": 66,
   "id": "afd53ef8",
   "metadata": {},
   "outputs": [],
   "source": [
    "def logout_helper(single_line):\n",
    "    episode = int(single_line[0].split(\"#\")[1])\n",
    "    win_num = float(single_line[1].split(\":\")[1])\n",
    "    survival_time = float(single_line[2].split(\":\")[1])\n",
    "    speed = float(single_line[3].split(\":\")[1])\n",
    "    return episode, win_num, survival_time, speed"
   ]
  },
  {
   "cell_type": "code",
   "execution_count": 67,
   "id": "c144cf10",
   "metadata": {},
   "outputs": [],
   "source": [
    "def result_repack(lines):\n",
    "    episode_list, win_num_list, survival_time_list, speed_list = [], [], [], []\n",
    "    for i in range(len(lines)):\n",
    "        single_line = lines[i].split(\"|\")\n",
    "        if len(single_line) > 3:\n",
    "            episode, win_num, survival_time, speed = logout_helper(single_line)\n",
    "            episode_list.append(episode)\n",
    "            win_num_list.append(win_num)\n",
    "            survival_time_list.append(survival_time)\n",
    "            speed_list.append(speed)\n",
    "    return episode_list, win_num_list, survival_time_list, speed_list"
   ]
  },
  {
   "cell_type": "code",
   "execution_count": 68,
   "id": "d84c5d4a",
   "metadata": {},
   "outputs": [],
   "source": [
    "episode_list, win_num_list, survival_time_list, speed_list = result_repack(raw_lines)"
   ]
  },
  {
   "cell_type": "code",
   "execution_count": 69,
   "id": "bc52e920",
   "metadata": {},
   "outputs": [],
   "source": [
    "data = {\"Episode\" : episode_list, \n",
    "        \"Episodic Average Win Num\": win_num_list, \n",
    "        \"Episodic Average Survival Time\": survival_time_list, \n",
    "        \"Episodic Average Speed\": speed_list}"
   ]
  },
  {
   "cell_type": "code",
   "execution_count": 70,
   "id": "f621a537",
   "metadata": {},
   "outputs": [],
   "source": [
    "df = pd.DataFrame(data=data)"
   ]
  },
  {
   "cell_type": "code",
   "execution_count": 71,
   "id": "fe0564c8",
   "metadata": {},
   "outputs": [
    {
     "data": {
      "text/html": [
       "<div>\n",
       "<style scoped>\n",
       "    .dataframe tbody tr th:only-of-type {\n",
       "        vertical-align: middle;\n",
       "    }\n",
       "\n",
       "    .dataframe tbody tr th {\n",
       "        vertical-align: top;\n",
       "    }\n",
       "\n",
       "    .dataframe thead th {\n",
       "        text-align: right;\n",
       "    }\n",
       "</style>\n",
       "<table border=\"1\" class=\"dataframe\">\n",
       "  <thead>\n",
       "    <tr style=\"text-align: right;\">\n",
       "      <th></th>\n",
       "      <th>Episode</th>\n",
       "      <th>Episodic Average Win Num</th>\n",
       "      <th>Episodic Average Survival Time</th>\n",
       "      <th>Episodic Average Speed</th>\n",
       "    </tr>\n",
       "  </thead>\n",
       "  <tbody>\n",
       "    <tr>\n",
       "      <th>0</th>\n",
       "      <td>0</td>\n",
       "      <td>4.0</td>\n",
       "      <td>87.4</td>\n",
       "      <td>22.461277</td>\n",
       "    </tr>\n",
       "    <tr>\n",
       "      <th>1</th>\n",
       "      <td>1</td>\n",
       "      <td>4.0</td>\n",
       "      <td>88.4</td>\n",
       "      <td>22.569767</td>\n",
       "    </tr>\n",
       "    <tr>\n",
       "      <th>2</th>\n",
       "      <td>2</td>\n",
       "      <td>3.0</td>\n",
       "      <td>67.2</td>\n",
       "      <td>22.034900</td>\n",
       "    </tr>\n",
       "    <tr>\n",
       "      <th>3</th>\n",
       "      <td>3</td>\n",
       "      <td>5.0</td>\n",
       "      <td>90.0</td>\n",
       "      <td>21.825758</td>\n",
       "    </tr>\n",
       "    <tr>\n",
       "      <th>4</th>\n",
       "      <td>4</td>\n",
       "      <td>5.0</td>\n",
       "      <td>90.0</td>\n",
       "      <td>22.574734</td>\n",
       "    </tr>\n",
       "    <tr>\n",
       "      <th>...</th>\n",
       "      <td>...</td>\n",
       "      <td>...</td>\n",
       "      <td>...</td>\n",
       "      <td>...</td>\n",
       "    </tr>\n",
       "    <tr>\n",
       "      <th>59</th>\n",
       "      <td>59</td>\n",
       "      <td>2.0</td>\n",
       "      <td>56.8</td>\n",
       "      <td>21.806406</td>\n",
       "    </tr>\n",
       "    <tr>\n",
       "      <th>60</th>\n",
       "      <td>60</td>\n",
       "      <td>3.0</td>\n",
       "      <td>72.6</td>\n",
       "      <td>22.017382</td>\n",
       "    </tr>\n",
       "    <tr>\n",
       "      <th>61</th>\n",
       "      <td>61</td>\n",
       "      <td>2.0</td>\n",
       "      <td>48.4</td>\n",
       "      <td>23.911627</td>\n",
       "    </tr>\n",
       "    <tr>\n",
       "      <th>62</th>\n",
       "      <td>62</td>\n",
       "      <td>0.0</td>\n",
       "      <td>53.8</td>\n",
       "      <td>23.878680</td>\n",
       "    </tr>\n",
       "    <tr>\n",
       "      <th>63</th>\n",
       "      <td>63</td>\n",
       "      <td>5.0</td>\n",
       "      <td>90.0</td>\n",
       "      <td>21.757977</td>\n",
       "    </tr>\n",
       "  </tbody>\n",
       "</table>\n",
       "<p>64 rows × 4 columns</p>\n",
       "</div>"
      ],
      "text/plain": [
       "    Episode  Episodic Average Win Num  Episodic Average Survival Time   \n",
       "0         0                       4.0                            87.4  \\\n",
       "1         1                       4.0                            88.4   \n",
       "2         2                       3.0                            67.2   \n",
       "3         3                       5.0                            90.0   \n",
       "4         4                       5.0                            90.0   \n",
       "..      ...                       ...                             ...   \n",
       "59       59                       2.0                            56.8   \n",
       "60       60                       3.0                            72.6   \n",
       "61       61                       2.0                            48.4   \n",
       "62       62                       0.0                            53.8   \n",
       "63       63                       5.0                            90.0   \n",
       "\n",
       "    Episodic Average Speed  \n",
       "0                22.461277  \n",
       "1                22.569767  \n",
       "2                22.034900  \n",
       "3                21.825758  \n",
       "4                22.574734  \n",
       "..                     ...  \n",
       "59               21.806406  \n",
       "60               22.017382  \n",
       "61               23.911627  \n",
       "62               23.878680  \n",
       "63               21.757977  \n",
       "\n",
       "[64 rows x 4 columns]"
      ]
     },
     "execution_count": 71,
     "metadata": {},
     "output_type": "execute_result"
    }
   ],
   "source": [
    "df"
   ]
  },
  {
   "cell_type": "code",
   "execution_count": 72,
   "id": "577baeb4",
   "metadata": {},
   "outputs": [],
   "source": [
    "df.to_csv(log_dir + \"/\" + ds_file)"
   ]
  },
  {
   "cell_type": "code",
   "execution_count": 73,
   "id": "c27038cc",
   "metadata": {},
   "outputs": [],
   "source": [
    "n_episodes = len(win_num_list)"
   ]
  },
  {
   "cell_type": "code",
   "execution_count": 74,
   "id": "d1b487d7",
   "metadata": {},
   "outputs": [
    {
     "name": "stdout",
     "output_type": "stream",
     "text": [
      "Speed mean:  22.628820734375\n",
      "Speed mean:  0.17483350518943516\n"
     ]
    }
   ],
   "source": [
    "speed_list = np.array(speed_list)\n",
    "print(\"Speed mean: \", np.mean(speed_list))\n",
    "print(\"Speed mean: \", np.std(speed_list) / np.sqrt(n_episodes) * 1.96)"
   ]
  },
  {
   "cell_type": "code",
   "execution_count": 75,
   "id": "fbbb4a8e",
   "metadata": {},
   "outputs": [
    {
     "name": "stdout",
     "output_type": "stream",
     "text": [
      "Survival Time mean:  66.125\n",
      "Survival Time mean:  4.131642800917693\n"
     ]
    }
   ],
   "source": [
    "survival_time_list = np.array(survival_time_list)\n",
    "print(\"Survival Time mean: \", np.mean(survival_time_list))\n",
    "print(\"Survival Time mean: \", np.std(survival_time_list) / np.sqrt(n_episodes) * 1.96)"
   ]
  },
  {
   "cell_type": "code",
   "execution_count": 76,
   "id": "1f1df186",
   "metadata": {},
   "outputs": [
    {
     "name": "stdout",
     "output_type": "stream",
     "text": [
      "Win Num mean:  49.0625\n",
      "Win Num mean:  7.346410256196134\n"
     ]
    }
   ],
   "source": [
    "win_num_list = np.array(win_num_list) / 5 * 100\n",
    "print(\"Win Num mean: \", np.mean(win_num_list))\n",
    "print(\"Win Num mean: \", np.std(win_num_list) / np.sqrt(n_episodes) * 1.96)"
   ]
  },
  {
   "cell_type": "code",
   "execution_count": null,
   "id": "84b9b85c",
   "metadata": {},
   "outputs": [],
   "source": []
  },
  {
   "cell_type": "code",
   "execution_count": null,
   "id": "c225ab6b",
   "metadata": {},
   "outputs": [],
   "source": []
  },
  {
   "cell_type": "code",
   "execution_count": null,
   "id": "04910f34",
   "metadata": {},
   "outputs": [],
   "source": []
  }
 ],
 "metadata": {
  "kernelspec": {
   "display_name": "Python 3 (ipykernel)",
   "language": "python",
   "name": "python3"
  },
  "language_info": {
   "codemirror_mode": {
    "name": "ipython",
    "version": 3
   },
   "file_extension": ".py",
   "mimetype": "text/x-python",
   "name": "python",
   "nbconvert_exporter": "python",
   "pygments_lexer": "ipython3",
   "version": "3.10.10"
  }
 },
 "nbformat": 4,
 "nbformat_minor": 5
}
